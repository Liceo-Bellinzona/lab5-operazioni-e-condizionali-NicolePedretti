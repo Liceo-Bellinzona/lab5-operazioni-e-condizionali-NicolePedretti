{
 "cells": [
  {
   "cell_type": "markdown",
   "metadata": {},
   "source": [
    "# Paga lorda\n",
    "Scrivere un programma che calcoli e visualizzi la paga lorda di un dipendente a ore. I\n",
    "passaggi da seguire sono i seguenti:\n",
    "1. Ottenere il numero di ore lavorative;\n",
    "2. ottenere retribuzione oraria;\n",
    "3. moltiplicare il numero di ore lavorate per la retribuzione oraria;\n",
    "4. visualizzare il risultato del calcolo eseguito al passaggio 3."
   ]
  },
  {
   "cell_type": "code",
   "execution_count": 1,
   "metadata": {},
   "outputs": [
    {
     "name": "stdout",
     "output_type": "stream",
     "text": [
      "hai lavorato 4647 ore per 5757 franchi all'ora\n",
      "hai guadagnato 26752779 franchi\n"
     ]
    }
   ],
   "source": [
    "\n",
    "n_lav = int(input(\"inserisci ore lavorative\"))\n",
    "retribuzione_oraria = int(input(\"inserisci retribuzione oraria\"))\n",
    "\n",
    "print(f\"hai lavorato {n_lav} ore per {retribuzione_oraria} franchi all'ora\")\n",
    "\n",
    "print(f\"hai guadagnato {n_lav*retribuzione_oraria} franchi\")\n",
    "\n"
   ]
  },
  {
   "cell_type": "markdown",
   "metadata": {},
   "source": [
    "# Calcolo della superficie\n",
    "Un acro di terra corrisponde a circa 4046 metri quadrati. Scrivere un programma che chieda\n",
    "all’utente di inserire la superficie di un terreno in metri quadrati e calcoli quindi il numero\n",
    "di acri di quel terreno."
   ]
  },
  {
   "cell_type": "code",
   "execution_count": 5,
   "metadata": {},
   "outputs": [
    {
     "name": "stdout",
     "output_type": "stream",
     "text": [
      "nel tuo terreno ci stanno 145.0734058329214 acro\n"
     ]
    }
   ],
   "source": [
    "superficie = int(input(f\"inserisci la superficie del terreno in metri quadrati\"))\n",
    "\n",
    "print(f\"nel tuo terreno ci stanno {superficie/4046} acro\")"
   ]
  },
  {
   "cell_type": "markdown",
   "metadata": {},
   "source": [
    "# Previsioni delle vendite \n",
    "Un’azienda ha determinato che il suo profitto annuale è tipicamente il 23% del totale delle\n",
    "vendite. \n",
    "Scrivere un programma che chieda all’utente di inserire il totale delle vendite previste e visualizzi quindi il profitto che si terrà da questa somma.\n",
    "\n",
    "*Suggerimento: non esiste il tipo di dato 23%. È necessario utilizzare gli operatori di\n",
    "moltiplicazione e divisione per ottenere la percentuale sul totale delle vendite.*\n"
   ]
  },
  {
   "cell_type": "markdown",
   "metadata": {},
   "source": []
  },
  {
   "cell_type": "code",
   "execution_count": 6,
   "metadata": {},
   "outputs": [
    {
     "name": "stdout",
     "output_type": "stream",
     "text": [
      "il tuo profitto sarà di 1257.847\n"
     ]
    }
   ],
   "source": [
    "tot_vendite = float(input(f\"inserisci il totale delle vendite previste\"))\n",
    "print(f\"il tuo profitto sarà di {tot_vendite*23/100}\")"
   ]
  },
  {
   "cell_type": "markdown",
   "metadata": {},
   "source": [
    "# IVA \n",
    "Scrivere un programma che chieda all’utente di inserire il costo totale di un acquisto al netto\n",
    "di Iva. \n",
    "\n",
    "Si supponga che l’IVA sia pari all’8%. \n",
    "\n",
    "Il programma deve visualizzare il costo totale\n",
    "dell’acquisto al netto di IVA, l’IVA e il costo totale dell’acquisto (quindi IVA compresa)."
   ]
  },
  {
   "cell_type": "code",
   "execution_count": 8,
   "metadata": {},
   "outputs": [
    {
     "name": "stdout",
     "output_type": "stream",
     "text": [
      "il costo dell'acquisto al netto di IVA è 25.5\n",
      "l'IVA è di 2.04\n",
      "costo totale dell'acquisto 27.54\n"
     ]
    }
   ],
   "source": [
    "costo_tot = float(input(f\"inserisci il costo totale dell'acquisto\"))\n",
    "print(f\"il costo dell'acquisto al netto di IVA è {costo_tot}\")\n",
    "iva=costo_tot*8/100\n",
    "print(f\"l'IVA è di {costo_tot*8/100}\")\n",
    "print(f\"costo totale dell'acquisto {iva+costo_tot}\")"
   ]
  },
  {
   "cell_type": "markdown",
   "metadata": {},
   "source": [
    "# esercizio biscotti"
   ]
  },
  {
   "cell_type": "code",
   "execution_count": 1,
   "metadata": {},
   "outputs": [
    {
     "name": "stdout",
     "output_type": "stream",
     "text": [
      "per fare 48 biscotti servono 100.0 grammi di burro, 275.0 grammi di farina e 150.0 grammi di zucchero.\n"
     ]
    }
   ],
   "source": [
    "numero_biscotti= int(input(\"inserisci il numero di biscitti che si vogliono fare\"))\n",
    "grammi_zucchero= 150/48*numero_biscotti\n",
    "grammi_burro= 100/48*numero_biscotti\n",
    "grammi_farina= 275/48*numero_biscotti\n",
    "print(f\"per fare {numero_biscotti} biscotti servono {grammi_burro} grammi di burro, {grammi_farina} grammi di farina e {grammi_zucchero} grammi di zucchero.\")"
   ]
  }
 ],
 "metadata": {
  "kernelspec": {
   "display_name": "Python 3 (ipykernel)",
   "language": "python",
   "name": "python3"
  },
  "language_info": {
   "codemirror_mode": {
    "name": "ipython",
    "version": 3
   },
   "file_extension": ".py",
   "mimetype": "text/x-python",
   "name": "python",
   "nbconvert_exporter": "python",
   "pygments_lexer": "ipython3",
   "version": "3.10.13"
  }
 },
 "nbformat": 4,
 "nbformat_minor": 2
}
